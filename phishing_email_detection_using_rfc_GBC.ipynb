{
 "cells": [
  {
   "cell_type": "markdown",
   "id": "69cdc883",
   "metadata": {
    "id": "69cdc883",
    "papermill": {
     "duration": 0.010337,
     "end_time": "2023-09-21T08:45:50.495165",
     "exception": false,
     "start_time": "2023-09-21T08:45:50.484828",
     "status": "completed"
    },
    "tags": []
   },
   "source": [
    "### Importing libraries\n"
   ]
  },
  {
   "cell_type": "code",
   "execution_count": 89,
   "id": "96c9c74f",
   "metadata": {
    "execution": {
     "iopub.execute_input": "2023-09-21T08:45:50.518531Z",
     "iopub.status.busy": "2023-09-21T08:45:50.517836Z",
     "iopub.status.idle": "2023-09-21T08:45:50.523871Z",
     "shell.execute_reply": "2023-09-21T08:45:50.522515Z"
    },
    "id": "96c9c74f",
    "papermill": {
     "duration": 0.021315,
     "end_time": "2023-09-21T08:45:50.526836",
     "exception": false,
     "start_time": "2023-09-21T08:45:50.505521",
     "status": "completed"
    },
    "tags": []
   },
   "outputs": [],
   "source": [
    "import pandas as pd\n",
    "import matplotlib.pyplot as plt\n",
    "import numpy as np\n",
    "from collections import Counter\n",
    "from sklearn.preprocessing import StandardScaler, MinMaxScaler"
   ]
  },
  {
   "cell_type": "markdown",
   "id": "fd08d2f4",
   "metadata": {
    "id": "fd08d2f4",
    "papermill": {
     "duration": 0.009793,
     "end_time": "2023-09-21T08:45:50.547182",
     "exception": false,
     "start_time": "2023-09-21T08:45:50.537389",
     "status": "completed"
    },
    "tags": []
   },
   "source": [
    "### Data importing and Preprocessing"
   ]
  },
  {
   "cell_type": "code",
   "execution_count": 90,
   "id": "473268cd",
   "metadata": {
    "execution": {
     "iopub.execute_input": "2023-09-21T08:45:50.570894Z",
     "iopub.status.busy": "2023-09-21T08:45:50.570473Z",
     "iopub.status.idle": "2023-09-21T08:45:51.990512Z",
     "shell.execute_reply": "2023-09-21T08:45:51.988797Z"
    },
    "id": "473268cd",
    "papermill": {
     "duration": 1.436385,
     "end_time": "2023-09-21T08:45:51.993692",
     "exception": false,
     "start_time": "2023-09-21T08:45:50.557307",
     "status": "completed"
    },
    "tags": []
   },
   "outputs": [
    {
     "data": {
      "text/html": [
       "<div>\n",
       "<style scoped>\n",
       "    .dataframe tbody tr th:only-of-type {\n",
       "        vertical-align: middle;\n",
       "    }\n",
       "\n",
       "    .dataframe tbody tr th {\n",
       "        vertical-align: top;\n",
       "    }\n",
       "\n",
       "    .dataframe thead th {\n",
       "        text-align: right;\n",
       "    }\n",
       "</style>\n",
       "<table border=\"1\" class=\"dataframe\">\n",
       "  <thead>\n",
       "    <tr style=\"text-align: right;\">\n",
       "      <th></th>\n",
       "      <th>Unnamed: 0</th>\n",
       "      <th>Email Text</th>\n",
       "      <th>Email Type</th>\n",
       "    </tr>\n",
       "  </thead>\n",
       "  <tbody>\n",
       "    <tr>\n",
       "      <th>0</th>\n",
       "      <td>0</td>\n",
       "      <td>re : 6 . 1100 , disc : uniformitarianism , re ...</td>\n",
       "      <td>Safe Email</td>\n",
       "    </tr>\n",
       "    <tr>\n",
       "      <th>1</th>\n",
       "      <td>1</td>\n",
       "      <td>the other side of * galicismos * * galicismo *...</td>\n",
       "      <td>Safe Email</td>\n",
       "    </tr>\n",
       "    <tr>\n",
       "      <th>2</th>\n",
       "      <td>2</td>\n",
       "      <td>re : equistar deal tickets are you still avail...</td>\n",
       "      <td>Safe Email</td>\n",
       "    </tr>\n",
       "    <tr>\n",
       "      <th>3</th>\n",
       "      <td>3</td>\n",
       "      <td>\\nHello I am your hot lil horny toy.\\n    I am...</td>\n",
       "      <td>Phishing Email</td>\n",
       "    </tr>\n",
       "    <tr>\n",
       "      <th>4</th>\n",
       "      <td>4</td>\n",
       "      <td>software at incredibly low prices ( 86 % lower...</td>\n",
       "      <td>Phishing Email</td>\n",
       "    </tr>\n",
       "  </tbody>\n",
       "</table>\n",
       "</div>"
      ],
      "text/plain": [
       "   Unnamed: 0                                         Email Text  \\\n",
       "0           0  re : 6 . 1100 , disc : uniformitarianism , re ...   \n",
       "1           1  the other side of * galicismos * * galicismo *...   \n",
       "2           2  re : equistar deal tickets are you still avail...   \n",
       "3           3  \\nHello I am your hot lil horny toy.\\n    I am...   \n",
       "4           4  software at incredibly low prices ( 86 % lower...   \n",
       "\n",
       "       Email Type  \n",
       "0      Safe Email  \n",
       "1      Safe Email  \n",
       "2      Safe Email  \n",
       "3  Phishing Email  \n",
       "4  Phishing Email  "
      ]
     },
     "execution_count": 90,
     "metadata": {},
     "output_type": "execute_result"
    }
   ],
   "source": [
    "#Import the Dataset\n",
    "df= pd.read_csv(r\"E:\\Courses\\...ML\\Gradiant descent\\Grediant\\Phishing_Email.csv\")\n",
    "df.head()"
   ]
  },
  {
   "cell_type": "code",
   "execution_count": 91,
   "id": "4fceb41a",
   "metadata": {},
   "outputs": [
    {
     "name": "stdout",
     "output_type": "stream",
     "text": [
      "<class 'pandas.core.frame.DataFrame'>\n",
      "RangeIndex: 18650 entries, 0 to 18649\n",
      "Data columns (total 3 columns):\n",
      " #   Column      Non-Null Count  Dtype \n",
      "---  ------      --------------  ----- \n",
      " 0   Unnamed: 0  18650 non-null  int64 \n",
      " 1   Email Text  18634 non-null  object\n",
      " 2   Email Type  18650 non-null  object\n",
      "dtypes: int64(1), object(2)\n",
      "memory usage: 437.2+ KB\n"
     ]
    }
   ],
   "source": [
    "df.info()"
   ]
  },
  {
   "cell_type": "code",
   "execution_count": 92,
   "id": "dc866ed5",
   "metadata": {},
   "outputs": [
    {
     "data": {
      "text/plain": [
       "Unnamed: 0\n",
       "18650    1\n",
       "0        1\n",
       "1        1\n",
       "2        1\n",
       "3        1\n",
       "        ..\n",
       "14       1\n",
       "13       1\n",
       "12       1\n",
       "11       1\n",
       "10       1\n",
       "Name: count, Length: 18650, dtype: int64"
      ]
     },
     "execution_count": 92,
     "metadata": {},
     "output_type": "execute_result"
    }
   ],
   "source": [
    "df[\"Unnamed: 0\"].value_counts()"
   ]
  },
  {
   "cell_type": "code",
   "execution_count": 93,
   "id": "034c9b04",
   "metadata": {
    "colab": {
     "base_uri": "https://localhost:8080/",
     "height": 178
    },
    "execution": {
     "iopub.execute_input": "2023-09-21T08:45:52.019590Z",
     "iopub.status.busy": "2023-09-21T08:45:52.019100Z",
     "iopub.status.idle": "2023-09-21T08:45:52.041445Z",
     "shell.execute_reply": "2023-09-21T08:45:52.040035Z"
    },
    "id": "034c9b04",
    "outputId": "fa9f11fb-a4b9-427e-cb1a-8541029f5848",
    "papermill": {
     "duration": 0.039933,
     "end_time": "2023-09-21T08:45:52.044745",
     "exception": false,
     "start_time": "2023-09-21T08:45:52.004812",
     "status": "completed"
    },
    "tags": []
   },
   "outputs": [
    {
     "data": {
      "text/plain": [
       "Unnamed: 0     0\n",
       "Email Text    16\n",
       "Email Type     0\n",
       "dtype: int64"
      ]
     },
     "execution_count": 93,
     "metadata": {},
     "output_type": "execute_result"
    }
   ],
   "source": [
    "# Check NAN values\n",
    "df.isna().sum()"
   ]
  },
  {
   "cell_type": "code",
   "execution_count": 94,
   "id": "cc47db75",
   "metadata": {
    "colab": {
     "base_uri": "https://localhost:8080/"
    },
    "execution": {
     "iopub.execute_input": "2023-09-21T08:45:52.068301Z",
     "iopub.status.busy": "2023-09-21T08:45:52.067827Z",
     "iopub.status.idle": "2023-09-21T08:45:52.097300Z",
     "shell.execute_reply": "2023-09-21T08:45:52.095583Z"
    },
    "id": "cc47db75",
    "outputId": "2d364dc9-2ef7-4ebd-da49-f71724c7907c",
    "papermill": {
     "duration": 0.04619,
     "end_time": "2023-09-21T08:45:52.101780",
     "exception": false,
     "start_time": "2023-09-21T08:45:52.055590",
     "status": "completed"
    },
    "tags": []
   },
   "outputs": [
    {
     "name": "stdout",
     "output_type": "stream",
     "text": [
      "Unnamed: 0    0\n",
      "Email Text    0\n",
      "Email Type    0\n",
      "dtype: int64\n"
     ]
    }
   ],
   "source": [
    "#Drop tha Na values\n",
    "df = df.dropna()\n",
    "print(df.isna().sum())"
   ]
  },
  {
   "cell_type": "code",
   "execution_count": 95,
   "id": "1a6a1d14",
   "metadata": {
    "colab": {
     "base_uri": "https://localhost:8080/"
    },
    "execution": {
     "iopub.execute_input": "2023-09-21T08:45:52.126463Z",
     "iopub.status.busy": "2023-09-21T08:45:52.125880Z",
     "iopub.status.idle": "2023-09-21T08:45:52.135801Z",
     "shell.execute_reply": "2023-09-21T08:45:52.134482Z"
    },
    "id": "1a6a1d14",
    "outputId": "2f2f5186-f07c-4425-d4bc-cb51fa5aa5fc",
    "papermill": {
     "duration": 0.02589,
     "end_time": "2023-09-21T08:45:52.138794",
     "exception": false,
     "start_time": "2023-09-21T08:45:52.112904",
     "status": "completed"
    },
    "tags": []
   },
   "outputs": [
    {
     "data": {
      "text/plain": [
       "(18634, 3)"
      ]
     },
     "execution_count": 95,
     "metadata": {},
     "output_type": "execute_result"
    }
   ],
   "source": [
    "#dataset shape\n",
    "df.shape"
   ]
  },
  {
   "cell_type": "code",
   "execution_count": 96,
   "id": "0c9ffb9b",
   "metadata": {
    "colab": {
     "base_uri": "https://localhost:8080/"
    },
    "execution": {
     "iopub.execute_input": "2023-09-21T08:45:52.164268Z",
     "iopub.status.busy": "2023-09-21T08:45:52.163290Z",
     "iopub.status.idle": "2023-09-21T08:45:52.182085Z",
     "shell.execute_reply": "2023-09-21T08:45:52.180152Z"
    },
    "id": "0c9ffb9b",
    "outputId": "210e730d-e1a0-434c-dc47-37f498d05e67",
    "papermill": {
     "duration": 0.034822,
     "end_time": "2023-09-21T08:45:52.185204",
     "exception": false,
     "start_time": "2023-09-21T08:45:52.150382",
     "status": "completed"
    },
    "tags": []
   },
   "outputs": [
    {
     "name": "stdout",
     "output_type": "stream",
     "text": [
      "Email Type\n",
      "Safe Email        11322\n",
      "Phishing Email     7312\n",
      "Name: count, dtype: int64\n"
     ]
    }
   ],
   "source": [
    "# Count the occurrences of each E-mail type.\n",
    "email_type_counts = df['Email Type'].value_counts()\n",
    "print(email_type_counts)\n"
   ]
  },
  {
   "cell_type": "code",
   "execution_count": 97,
   "id": "eae66b7f",
   "metadata": {
    "colab": {
     "base_uri": "https://localhost:8080/",
     "height": 607
    },
    "execution": {
     "iopub.execute_input": "2023-09-21T08:45:52.210506Z",
     "iopub.status.busy": "2023-09-21T08:45:52.210025Z",
     "iopub.status.idle": "2023-09-21T08:45:52.611781Z",
     "shell.execute_reply": "2023-09-21T08:45:52.610497Z"
    },
    "id": "eae66b7f",
    "outputId": "4737839e-f3ff-483f-9268-b78c8588ba48",
    "papermill": {
     "duration": 0.417356,
     "end_time": "2023-09-21T08:45:52.614565",
     "exception": false,
     "start_time": "2023-09-21T08:45:52.197209",
     "status": "completed"
    },
    "tags": []
   },
   "outputs": [
    {
     "data": {
      "image/png": "[encoded data removed]",
      "text/plain": [
       "<Figure size 800x600 with 1 Axes>"
      ]
     },
     "metadata": {},
     "output_type": "display_data"
    }
   ],
   "source": [
    "# Create the bar chart\n",
    "# Create a list of unique email types\n",
    "unique_email_types = email_type_counts.index.tolist()\n",
    "\n",
    "# Define a custom color map\n",
    "color_map = {\n",
    "    'Phishing Email': 'red',\n",
    "    'Safe Email': 'green',}\n",
    "\n",
    "# Map the colors to each email type\n",
    "colors = [color_map.get(email_type, 'gray') for email_type in unique_email_types]\n",
    "\n",
    "# Create the bar chart with custom colors\n",
    "plt.figure(figsize=(8, 6))\n",
    "plt.bar(unique_email_types, email_type_counts, color=colors)\n",
    "plt.xlabel('Email Type')\n",
    "plt.ylabel('Count')\n",
    "plt.title('Distribution of Email Types with Custom Colors')\n",
    "plt.xticks(rotation=45)\n",
    "\n",
    "# Show the chart\n",
    "plt.tight_layout()\n",
    "plt.show()\n"
   ]
  },
  {
   "cell_type": "code",
   "execution_count": 98,
   "id": "74959bb6",
   "metadata": {},
   "outputs": [
    {
     "name": "stdout",
     "output_type": "stream",
     "text": [
      "Before undersample : Counter({'Safe Email': 11322, 'Phishing Email': 7312})\n"
     ]
    }
   ],
   "source": [
    "count = Counter(df[\"Email Type\"])\n",
    "print(f\"Before undersample : {count}\")"
   ]
  },
  {
   "cell_type": "code",
   "execution_count": 99,
   "id": "c3da0ce3",
   "metadata": {
    "execution": {
     "iopub.execute_input": "2023-09-21T08:45:52.663691Z",
     "iopub.status.busy": "2023-09-21T08:45:52.663155Z",
     "iopub.status.idle": "2023-09-21T08:45:52.684638Z",
     "shell.execute_reply": "2023-09-21T08:45:52.683033Z"
    },
    "id": "c3da0ce3",
    "papermill": {
     "duration": 0.038689,
     "end_time": "2023-09-21T08:45:52.688059",
     "exception": false,
     "start_time": "2023-09-21T08:45:52.649370",
     "status": "completed"
    },
    "tags": []
   },
   "outputs": [],
   "source": [
    "# We will use undersapling technique\n",
    "Safe_Email = df[df[\"Email Type\"]== \"Safe Email\"]\n",
    "Phishing_Email = df[df[\"Email Type\"]== \"Phishing Email\"]\n",
    "Safe_Email = Safe_Email.sample(Phishing_Email.shape[0])"
   ]
  },
  {
   "cell_type": "code",
   "execution_count": 100,
   "id": "ba1922ed",
   "metadata": {
    "colab": {
     "base_uri": "https://localhost:8080/"
    },
    "execution": {
     "iopub.execute_input": "2023-09-21T08:45:52.713638Z",
     "iopub.status.busy": "2023-09-21T08:45:52.713094Z",
     "iopub.status.idle": "2023-09-21T08:45:52.721472Z",
     "shell.execute_reply": "2023-09-21T08:45:52.719912Z"
    },
    "id": "ba1922ed",
    "outputId": "547edc6e-6827-4b0d-cbfe-634b19e51ac0",
    "papermill": {
     "duration": 0.024517,
     "end_time": "2023-09-21T08:45:52.724038",
     "exception": false,
     "start_time": "2023-09-21T08:45:52.699521",
     "status": "completed"
    },
    "tags": []
   },
   "outputs": [
    {
     "data": {
      "text/plain": [
       "((7312, 3), (7312, 3))"
      ]
     },
     "execution_count": 100,
     "metadata": {},
     "output_type": "execute_result"
    }
   ],
   "source": [
    "# lets check the sahpe again\n",
    "Safe_Email.shape,Phishing_Email.shape"
   ]
  },
  {
   "cell_type": "code",
   "execution_count": 101,
   "id": "a0cf39b5",
   "metadata": {
    "colab": {
     "base_uri": "https://localhost:8080/",
     "height": 206
    },
    "execution": {
     "iopub.execute_input": "2023-09-21T08:45:52.752407Z",
     "iopub.status.busy": "2023-09-21T08:45:52.751581Z",
     "iopub.status.idle": "2023-09-21T08:45:52.767919Z",
     "shell.execute_reply": "2023-09-21T08:45:52.766675Z"
    },
    "id": "a0cf39b5",
    "outputId": "fb8c17e0-4fa3-46ac-a63e-bbdedc28a8dd",
    "papermill": {
     "duration": 0.03406,
     "end_time": "2023-09-21T08:45:52.770629",
     "exception": false,
     "start_time": "2023-09-21T08:45:52.736569",
     "status": "completed"
    },
    "tags": []
   },
   "outputs": [
    {
     "data": {
      "text/html": [
       "<div>\n",
       "<style scoped>\n",
       "    .dataframe tbody tr th:only-of-type {\n",
       "        vertical-align: middle;\n",
       "    }\n",
       "\n",
       "    .dataframe tbody tr th {\n",
       "        vertical-align: top;\n",
       "    }\n",
       "\n",
       "    .dataframe thead th {\n",
       "        text-align: right;\n",
       "    }\n",
       "</style>\n",
       "<table border=\"1\" class=\"dataframe\">\n",
       "  <thead>\n",
       "    <tr style=\"text-align: right;\">\n",
       "      <th></th>\n",
       "      <th>Email Text</th>\n",
       "      <th>Email Type</th>\n",
       "    </tr>\n",
       "  </thead>\n",
       "  <tbody>\n",
       "    <tr>\n",
       "      <th>0</th>\n",
       "      <td>re : 6 . 1100 , disc : uniformitarianism , re ...</td>\n",
       "      <td>Safe Email</td>\n",
       "    </tr>\n",
       "    <tr>\n",
       "      <th>1</th>\n",
       "      <td>the other side of * galicismos * * galicismo *...</td>\n",
       "      <td>Safe Email</td>\n",
       "    </tr>\n",
       "    <tr>\n",
       "      <th>2</th>\n",
       "      <td>re : equistar deal tickets are you still avail...</td>\n",
       "      <td>Safe Email</td>\n",
       "    </tr>\n",
       "    <tr>\n",
       "      <th>3</th>\n",
       "      <td>\\nHello I am your hot lil horny toy.\\n    I am...</td>\n",
       "      <td>Phishing Email</td>\n",
       "    </tr>\n",
       "    <tr>\n",
       "      <th>4</th>\n",
       "      <td>software at incredibly low prices ( 86 % lower...</td>\n",
       "      <td>Phishing Email</td>\n",
       "    </tr>\n",
       "  </tbody>\n",
       "</table>\n",
       "</div>"
      ],
      "text/plain": [
       "                                          Email Text      Email Type\n",
       "0  re : 6 . 1100 , disc : uniformitarianism , re ...      Safe Email\n",
       "1  the other side of * galicismos * * galicismo *...      Safe Email\n",
       "2  re : equistar deal tickets are you still avail...      Safe Email\n",
       "3  \\nHello I am your hot lil horny toy.\\n    I am...  Phishing Email\n",
       "4  software at incredibly low prices ( 86 % lower...  Phishing Email"
      ]
     },
     "execution_count": 101,
     "metadata": {},
     "output_type": "execute_result"
    }
   ],
   "source": [
    "# lest create a new Data with the balanced E-mail types\n",
    "Data= pd.concat([Safe_Email, Phishing_Email], ignore_index = True)\n",
    "Data = df.drop(\"Unnamed: 0\", axis=1)\n",
    "Data.head()\n"
   ]
  },
  {
   "cell_type": "code",
   "execution_count": 102,
   "id": "723567b9",
   "metadata": {},
   "outputs": [],
   "source": [
    "\n",
    "X = Data[\"Email Text\"].values\n",
    "y = Data[\"Email Type\"].values"
   ]
  },
  {
   "cell_type": "markdown",
   "id": "18faa84e",
   "metadata": {
    "id": "18faa84e",
    "papermill": {
     "duration": 0.011296,
     "end_time": "2023-09-21T08:45:52.793814",
     "exception": false,
     "start_time": "2023-09-21T08:45:52.782518",
     "status": "completed"
    },
    "tags": []
   },
   "source": [
    "### Our Dataset is ready"
   ]
  },
  {
   "cell_type": "code",
   "execution_count": 103,
   "id": "901a3f6f",
   "metadata": {
    "execution": {
     "iopub.execute_input": "2023-09-21T08:45:52.856150Z",
     "iopub.status.busy": "2023-09-21T08:45:52.855607Z",
     "iopub.status.idle": "2023-09-21T08:45:54.492117Z",
     "shell.execute_reply": "2023-09-21T08:45:54.490697Z"
    },
    "id": "901a3f6f",
    "papermill": {
     "duration": 1.653564,
     "end_time": "2023-09-21T08:45:54.495759",
     "exception": false,
     "start_time": "2023-09-21T08:45:52.842195",
     "status": "completed"
    },
    "tags": []
   },
   "outputs": [],
   "source": [
    "# lets splitting Our Data\n",
    "from sklearn.model_selection import train_test_split\n",
    "X_train,x_test,y_train,y_test = train_test_split(X, y, test_size = 0.3, random_state = 0)"
   ]
  },
  {
   "cell_type": "markdown",
   "id": "f90c9dcf",
   "metadata": {
    "id": "f90c9dcf",
    "papermill": {
     "duration": 0.01146,
     "end_time": "2023-09-21T08:45:54.519675",
     "exception": false,
     "start_time": "2023-09-21T08:45:54.508215",
     "status": "completed"
    },
    "tags": []
   },
   "source": [
    "### Build RandomForestClassifier Model\n"
   ]
  },
  {
   "cell_type": "code",
   "execution_count": 104,
   "id": "d501fbef",
   "metadata": {
    "execution": {
     "iopub.execute_input": "2023-09-21T08:45:54.546512Z",
     "iopub.status.busy": "2023-09-21T08:45:54.545980Z",
     "iopub.status.idle": "2023-09-21T08:45:55.188200Z",
     "shell.execute_reply": "2023-09-21T08:45:55.186563Z"
    },
    "id": "d501fbef",
    "papermill": {
     "duration": 0.65994,
     "end_time": "2023-09-21T08:45:55.191826",
     "exception": false,
     "start_time": "2023-09-21T08:45:54.531886",
     "status": "completed"
    },
    "tags": []
   },
   "outputs": [],
   "source": [
    "# Importing Libraries for the model ,Tfidf and Pipeline\n",
    "from sklearn.ensemble import RandomForestClassifier\n",
    "from sklearn.feature_extraction.text import TfidfVectorizer\n",
    "from sklearn.pipeline import Pipeline\n",
    "\n",
    "# define the Classifier\n",
    "classifier = Pipeline([(\"tfidf\",TfidfVectorizer() ),(\"classifier\",RandomForestClassifier(n_estimators=50, max_depth=40))])# add another hyperparamters as U want"
   ]
  },
  {
   "cell_type": "code",
   "execution_count": 105,
   "id": "fbdbcaa4",
   "metadata": {
    "colab": {
     "base_uri": "https://localhost:8080/",
     "height": 155
    },
    "execution": {
     "iopub.execute_input": "2023-09-21T08:45:55.219796Z",
     "iopub.status.busy": "2023-09-21T08:45:55.219351Z",
     "iopub.status.idle": "2023-09-21T08:46:08.282945Z",
     "shell.execute_reply": "2023-09-21T08:46:08.281508Z"
    },
    "id": "fbdbcaa4",
    "outputId": "a17409f1-eacc-4256-d9a0-9a6b50001c45",
    "papermill": {
     "duration": 13.08196,
     "end_time": "2023-09-21T08:46:08.286767",
     "exception": false,
     "start_time": "2023-09-21T08:45:55.204807",
     "status": "completed"
    },
    "tags": []
   },
   "outputs": [
    {
     "data": {
      "text/html": [
       "<style>#sk-container-id-5 {\n",
       "  /* Definition of color scheme common for light and dark mode */\n",
       "  --sklearn-color-text: black;\n",
       "  --sklearn-color-line: gray;\n",
       "  /* Definition of color scheme for unfitted estimators */\n",
       "  --sklearn-color-unfitted-level-0: #fff5e6;\n",
       "  --sklearn-color-unfitted-level-1: #f6e4d2;\n",
       "  --sklearn-color-unfitted-level-2: #ffe0b3;\n",
       "  --sklearn-color-unfitted-level-3: chocolate;\n",
       "  /* Definition of color scheme for fitted estimators */\n",
       "  --sklearn-color-fitted-level-0: #f0f8ff;\n",
       "  --sklearn-color-fitted-level-1: #d4ebff;\n",
       "  --sklearn-color-fitted-level-2: #b3dbfd;\n",
       "  --sklearn-color-fitted-level-3: cornflowerblue;\n",
       "\n",
       "  /* Specific color for light theme */\n",
       "  --sklearn-color-text-on-default-background: var(--sg-text-color, var(--theme-code-foreground, var(--jp-content-font-color1, black)));\n",
       "  --sklearn-color-background: var(--sg-background-color, var(--theme-background, var(--jp-layout-color0, white)));\n",
       "  --sklearn-color-border-box: var(--sg-text-color, var(--theme-code-foreground, var(--jp-content-font-color1, black)));\n",
       "  --sklearn-color-icon: #696969;\n",
       "\n",
       "  @media (prefers-color-scheme: dark) {\n",
       "    /* Redefinition of color scheme for dark theme */\n",
       "    --sklearn-color-text-on-default-background: var(--sg-text-color, var(--theme-code-foreground, var(--jp-content-font-color1, white)));\n",
       "    --sklearn-color-background: var(--sg-background-color, var(--theme-background, var(--jp-layout-color0, #111)));\n",
       "    --sklearn-color-border-box: var(--sg-text-color, var(--theme-code-foreground, var(--jp-content-font-color1, white)));\n",
       "    --sklearn-color-icon: #878787;\n",
       "  }\n",
       "}\n",
       "\n",
       "#sk-container-id-5 {\n",
       "  color: var(--sklearn-color-text);\n",
       "}\n",
       "\n",
       "#sk-container-id-5 pre {\n",
       "  padding: 0;\n",
       "}\n",
       "\n",
       "#sk-container-id-5 input.sk-hidden--visually {\n",
       "  border: 0;\n",
       "  clip: rect(1px 1px 1px 1px);\n",
       "  clip: rect(1px, 1px, 1px, 1px);\n",
       "  height: 1px;\n",
       "  margin: -1px;\n",
       "  overflow: hidden;\n",
       "  padding: 0;\n",
       "  position: absolute;\n",
       "  width: 1px;\n",
       "}\n",
       "\n",
       "#sk-container-id-5 div.sk-dashed-wrapped {\n",
       "  border: 1px dashed var(--sklearn-color-line);\n",
       "  margin: 0 0.4em 0.5em 0.4em;\n",
       "  box-sizing: border-box;\n",
       "  padding-bottom: 0.4em;\n",
       "  background-color: var(--sklearn-color-background);\n",
       "}\n",
       "\n",
       "#sk-container-id-5 div.sk-container {\n",
       "  /* jupyter's `normalize.less` sets `[hidden] { display: none; }`\n",
       "     but bootstrap.min.css set `[hidden] { display: none !important; }`\n",
       "     so we also need the `!important` here to be able to override the\n",
       "     default hidden behavior on the sphinx rendered scikit-learn.org.\n",
       "     See: https://github.com/scikit-learn/scikit-learn/issues/21755 */\n",
       "  display: inline-block !important;\n",
       "  position: relative;\n",
       "}\n",
       "\n",
       "#sk-container-id-5 div.sk-text-repr-fallback {\n",
       "  display: none;\n",
       "}\n",
       "\n",
       "div.sk-parallel-item,\n",
       "div.sk-serial,\n",
       "div.sk-item {\n",
       "  /* draw centered vertical line to link estimators */\n",
       "  background-image: linear-gradient(var(--sklearn-color-text-on-default-background), var(--sklearn-color-text-on-default-background));\n",
       "  background-size: 2px 100%;\n",
       "  background-repeat: no-repeat;\n",
       "  background-position: center center;\n",
       "}\n",
       "\n",
       "/* Parallel-specific style estimator block */\n",
       "\n",
       "#sk-container-id-5 div.sk-parallel-item::after {\n",
       "  content: \"\";\n",
       "  width: 100%;\n",
       "  border-bottom: 2px solid var(--sklearn-color-text-on-default-background);\n",
       "  flex-grow: 1;\n",
       "}\n",
       "\n",
       "#sk-container-id-5 div.sk-parallel {\n",
       "  display: flex;\n",
       "  align-items: stretch;\n",
       "  justify-content: center;\n",
       "  background-color: var(--sklearn-color-background);\n",
       "  position: relative;\n",
       "}\n",
       "\n",
       "#sk-container-id-5 div.sk-parallel-item {\n",
       "  display: flex;\n",
       "  flex-direction: column;\n",
       "}\n",
       "\n",
       "#sk-container-id-5 div.sk-parallel-item:first-child::after {\n",
       "  align-self: flex-end;\n",
       "  width: 50%;\n",
       "}\n",
       "\n",
       "#sk-container-id-5 div.sk-parallel-item:last-child::after {\n",
       "  align-self: flex-start;\n",
       "  width: 50%;\n",
       "}\n",
       "\n",
       "#sk-container-id-5 div.sk-parallel-item:only-child::after {\n",
       "  width: 0;\n",
       "}\n",
       "\n",
       "/* Serial-specific style estimator block */\n",
       "\n",
       "#sk-container-id-5 div.sk-serial {\n",
       "  display: flex;\n",
       "  flex-direction: column;\n",
       "  align-items: center;\n",
       "  background-color: var(--sklearn-color-background);\n",
       "  padding-right: 1em;\n",
       "  padding-left: 1em;\n",
       "}\n",
       "\n",
       "\n",
       "/* Toggleable style: style used for estimator/Pipeline/ColumnTransformer box that is\n",
       "clickable and can be expanded/collapsed.\n",
       "- Pipeline and ColumnTransformer use this feature and define the default style\n",
       "- Estimators will overwrite some part of the style using the `sk-estimator` class\n",
       "*/\n",
       "\n",
       "/* Pipeline and ColumnTransformer style (default) */\n",
       "\n",
       "#sk-container-id-5 div.sk-toggleable {\n",
       "  /* Default theme specific background. It is overwritten whether we have a\n",
       "  specific estimator or a Pipeline/ColumnTransformer */\n",
       "  background-color: var(--sklearn-color-background);\n",
       "}\n",
       "\n",
       "/* Toggleable label */\n",
       "#sk-container-id-5 label.sk-toggleable__label {\n",
       "  cursor: pointer;\n",
       "  display: block;\n",
       "  width: 100%;\n",
       "  margin-bottom: 0;\n",
       "  padding: 0.5em;\n",
       "  box-sizing: border-box;\n",
       "  text-align: center;\n",
       "}\n",
       "\n",
       "#sk-container-id-5 label.sk-toggleable__label-arrow:before {\n",
       "  /* Arrow on the left of the label */\n",
       "  content: \"▸\";\n",
       "  float: left;\n",
       "  margin-right: 0.25em;\n",
       "  color: var(--sklearn-color-icon);\n",
       "}\n",
       "\n",
       "#sk-container-id-5 label.sk-toggleable__label-arrow:hover:before {\n",
       "  color: var(--sklearn-color-text);\n",
       "}\n",
       "\n",
       "/* Toggleable content - dropdown */\n",
       "\n",
       "#sk-container-id-5 div.sk-toggleable__content {\n",
       "  max-height: 0;\n",
       "  max-width: 0;\n",
       "  overflow: hidden;\n",
       "  text-align: left;\n",
       "  /* unfitted */\n",
       "  background-color: var(--sklearn-color-unfitted-level-0);\n",
       "}\n",
       "\n",
       "#sk-container-id-5 div.sk-toggleable__content.fitted {\n",
       "  /* fitted */\n",
       "  background-color: var(--sklearn-color-fitted-level-0);\n",
       "}\n",
       "\n",
       "#sk-container-id-5 div.sk-toggleable__content pre {\n",
       "  margin: 0.2em;\n",
       "  border-radius: 0.25em;\n",
       "  color: var(--sklearn-color-text);\n",
       "  /* unfitted */\n",
       "  background-color: var(--sklearn-color-unfitted-level-0);\n",
       "}\n",
       "\n",
       "#sk-container-id-5 div.sk-toggleable__content.fitted pre {\n",
       "  /* unfitted */\n",
       "  background-color: var(--sklearn-color-fitted-level-0);\n",
       "}\n",
       "\n",
       "#sk-container-id-5 input.sk-toggleable__control:checked~div.sk-toggleable__content {\n",
       "  /* Expand drop-down */\n",
       "  max-height: 200px;\n",
       "  max-width: 100%;\n",
       "  overflow: auto;\n",
       "}\n",
       "\n",
       "#sk-container-id-5 input.sk-toggleable__control:checked~label.sk-toggleable__label-arrow:before {\n",
       "  content: \"▾\";\n",
       "}\n",
       "\n",
       "/* Pipeline/ColumnTransformer-specific style */\n",
       "\n",
       "#sk-container-id-5 div.sk-label input.sk-toggleable__control:checked~label.sk-toggleable__label {\n",
       "  color: var(--sklearn-color-text);\n",
       "  background-color: var(--sklearn-color-unfitted-level-2);\n",
       "}\n",
       "\n",
       "#sk-container-id-5 div.sk-label.fitted input.sk-toggleable__control:checked~label.sk-toggleable__label {\n",
       "  background-color: var(--sklearn-color-fitted-level-2);\n",
       "}\n",
       "\n",
       "/* Estimator-specific style */\n",
       "\n",
       "/* Colorize estimator box */\n",
       "#sk-container-id-5 div.sk-estimator input.sk-toggleable__control:checked~label.sk-toggleable__label {\n",
       "  /* unfitted */\n",
       "  background-color: var(--sklearn-color-unfitted-level-2);\n",
       "}\n",
       "\n",
       "#sk-container-id-5 div.sk-estimator.fitted input.sk-toggleable__control:checked~label.sk-toggleable__label {\n",
       "  /* fitted */\n",
       "  background-color: var(--sklearn-color-fitted-level-2);\n",
       "}\n",
       "\n",
       "#sk-container-id-5 div.sk-label label.sk-toggleable__label,\n",
       "#sk-container-id-5 div.sk-label label {\n",
       "  /* The background is the default theme color */\n",
       "  color: var(--sklearn-color-text-on-default-background);\n",
       "}\n",
       "\n",
       "/* On hover, darken the color of the background */\n",
       "#sk-container-id-5 div.sk-label:hover label.sk-toggleable__label {\n",
       "  color: var(--sklearn-color-text);\n",
       "  background-color: var(--sklearn-color-unfitted-level-2);\n",
       "}\n",
       "\n",
       "/* Label box, darken color on hover, fitted */\n",
       "#sk-container-id-5 div.sk-label.fitted:hover label.sk-toggleable__label.fitted {\n",
       "  color: var(--sklearn-color-text);\n",
       "  background-color: var(--sklearn-color-fitted-level-2);\n",
       "}\n",
       "\n",
       "/* Estimator label */\n",
       "\n",
       "#sk-container-id-5 div.sk-label label {\n",
       "  font-family: monospace;\n",
       "  font-weight: bold;\n",
       "  display: inline-block;\n",
       "  line-height: 1.2em;\n",
       "}\n",
       "\n",
       "#sk-container-id-5 div.sk-label-container {\n",
       "  text-align: center;\n",
       "}\n",
       "\n",
       "/* Estimator-specific */\n",
       "#sk-container-id-5 div.sk-estimator {\n",
       "  font-family: monospace;\n",
       "  border: 1px dotted var(--sklearn-color-border-box);\n",
       "  border-radius: 0.25em;\n",
       "  box-sizing: border-box;\n",
       "  margin-bottom: 0.5em;\n",
       "  /* unfitted */\n",
       "  background-color: var(--sklearn-color-unfitted-level-0);\n",
       "}\n",
       "\n",
       "#sk-container-id-5 div.sk-estimator.fitted {\n",
       "  /* fitted */\n",
       "  background-color: var(--sklearn-color-fitted-level-0);\n",
       "}\n",
       "\n",
       "/* on hover */\n",
       "#sk-container-id-5 div.sk-estimator:hover {\n",
       "  /* unfitted */\n",
       "  background-color: var(--sklearn-color-unfitted-level-2);\n",
       "}\n",
       "\n",
       "#sk-container-id-5 div.sk-estimator.fitted:hover {\n",
       "  /* fitted */\n",
       "  background-color: var(--sklearn-color-fitted-level-2);\n",
       "}\n",
       "\n",
       "/* Specification for estimator info (e.g. \"i\" and \"?\") */\n",
       "\n",
       "/* Common style for \"i\" and \"?\" */\n",
       "\n",
       ".sk-estimator-doc-link,\n",
       "a:link.sk-estimator-doc-link,\n",
       "a:visited.sk-estimator-doc-link {\n",
       "  float: right;\n",
       "  font-size: smaller;\n",
       "  line-height: 1em;\n",
       "  font-family: monospace;\n",
       "  background-color: var(--sklearn-color-background);\n",
       "  border-radius: 1em;\n",
       "  height: 1em;\n",
       "  width: 1em;\n",
       "  text-decoration: none !important;\n",
       "  margin-left: 1ex;\n",
       "  /* unfitted */\n",
       "  border: var(--sklearn-color-unfitted-level-1) 1pt solid;\n",
       "  color: var(--sklearn-color-unfitted-level-1);\n",
       "}\n",
       "\n",
       ".sk-estimator-doc-link.fitted,\n",
       "a:link.sk-estimator-doc-link.fitted,\n",
       "a:visited.sk-estimator-doc-link.fitted {\n",
       "  /* fitted */\n",
       "  border: var(--sklearn-color-fitted-level-1) 1pt solid;\n",
       "  color: var(--sklearn-color-fitted-level-1);\n",
       "}\n",
       "\n",
       "/* On hover */\n",
       "div.sk-estimator:hover .sk-estimator-doc-link:hover,\n",
       ".sk-estimator-doc-link:hover,\n",
       "div.sk-label-container:hover .sk-estimator-doc-link:hover,\n",
       ".sk-estimator-doc-link:hover {\n",
       "  /* unfitted */\n",
       "  background-color: var(--sklearn-color-unfitted-level-3);\n",
       "  color: var(--sklearn-color-background);\n",
       "  text-decoration: none;\n",
       "}\n",
       "\n",
       "div.sk-estimator.fitted:hover .sk-estimator-doc-link.fitted:hover,\n",
       ".sk-estimator-doc-link.fitted:hover,\n",
       "div.sk-label-container:hover .sk-estimator-doc-link.fitted:hover,\n",
       ".sk-estimator-doc-link.fitted:hover {\n",
       "  /* fitted */\n",
       "  background-color: var(--sklearn-color-fitted-level-3);\n",
       "  color: var(--sklearn-color-background);\n",
       "  text-decoration: none;\n",
       "}\n",
       "\n",
       "/* Span, style for the box shown on hovering the info icon */\n",
       ".sk-estimator-doc-link span {\n",
       "  display: none;\n",
       "  z-index: 9999;\n",
       "  position: relative;\n",
       "  font-weight: normal;\n",
       "  right: .2ex;\n",
       "  padding: .5ex;\n",
       "  margin: .5ex;\n",
       "  width: min-content;\n",
       "  min-width: 20ex;\n",
       "  max-width: 50ex;\n",
       "  color: var(--sklearn-color-text);\n",
       "  box-shadow: 2pt 2pt 4pt #999;\n",
       "  /* unfitted */\n",
       "  background: var(--sklearn-color-unfitted-level-0);\n",
       "  border: .5pt solid var(--sklearn-color-unfitted-level-3);\n",
       "}\n",
       "\n",
       ".sk-estimator-doc-link.fitted span {\n",
       "  /* fitted */\n",
       "  background: var(--sklearn-color-fitted-level-0);\n",
       "  border: var(--sklearn-color-fitted-level-3);\n",
       "}\n",
       "\n",
       ".sk-estimator-doc-link:hover span {\n",
       "  display: block;\n",
       "}\n",
       "\n",
       "/* \"?\"-specific style due to the `<a>` HTML tag */\n",
       "\n",
       "#sk-container-id-5 a.estimator_doc_link {\n",
       "  float: right;\n",
       "  font-size: 1rem;\n",
       "  line-height: 1em;\n",
       "  font-family: monospace;\n",
       "  background-color: var(--sklearn-color-background);\n",
       "  border-radius: 1rem;\n",
       "  height: 1rem;\n",
       "  width: 1rem;\n",
       "  text-decoration: none;\n",
       "  /* unfitted */\n",
       "  color: var(--sklearn-color-unfitted-level-1);\n",
       "  border: var(--sklearn-color-unfitted-level-1) 1pt solid;\n",
       "}\n",
       "\n",
       "#sk-container-id-5 a.estimator_doc_link.fitted {\n",
       "  /* fitted */\n",
       "  border: var(--sklearn-color-fitted-level-1) 1pt solid;\n",
       "  color: var(--sklearn-color-fitted-level-1);\n",
       "}\n",
       "\n",
       "/* On hover */\n",
       "#sk-container-id-5 a.estimator_doc_link:hover {\n",
       "  /* unfitted */\n",
       "  background-color: var(--sklearn-color-unfitted-level-3);\n",
       "  color: var(--sklearn-color-background);\n",
       "  text-decoration: none;\n",
       "}\n",
       "\n",
       "#sk-container-id-5 a.estimator_doc_link.fitted:hover {\n",
       "  /* fitted */\n",
       "  background-color: var(--sklearn-color-fitted-level-3);\n",
       "}\n",
       "</style><div id=\"sk-container-id-5\" class=\"sk-top-container\"><div class=\"sk-text-repr-fallback\"><pre>Pipeline(steps=[(&#x27;tfidf&#x27;, TfidfVectorizer()),\n",
       "                (&#x27;classifier&#x27;,\n",
       "                 RandomForestClassifier(max_depth=40, n_estimators=50))])</pre><b>In a Jupyter environment, please rerun this cell to show the HTML representation or trust the notebook. <br />On GitHub, the HTML representation is unable to render, please try loading this page with nbviewer.org.</b></div><div class=\"sk-container\" hidden><div class=\"sk-item sk-dashed-wrapped\"><div class=\"sk-label-container\"><div class=\"sk-label fitted sk-toggleable\"><input class=\"sk-toggleable__control sk-hidden--visually\" id=\"sk-estimator-id-13\" type=\"checkbox\" ><label for=\"sk-estimator-id-13\" class=\"sk-toggleable__label fitted sk-toggleable__label-arrow fitted\">&nbsp;&nbsp;Pipeline<a class=\"sk-estimator-doc-link fitted\" rel=\"noreferrer\" target=\"_blank\" href=\"https://scikit-learn.org/1.5/modules/generated/sklearn.pipeline.Pipeline.html\">?<span>Documentation for Pipeline</span></a><span class=\"sk-estimator-doc-link fitted\">i<span>Fitted</span></span></label><div class=\"sk-toggleable__content fitted\"><pre>Pipeline(steps=[(&#x27;tfidf&#x27;, TfidfVectorizer()),\n",
       "                (&#x27;classifier&#x27;,\n",
       "                 RandomForestClassifier(max_depth=40, n_estimators=50))])</pre></div> </div></div><div class=\"sk-serial\"><div class=\"sk-item\"><div class=\"sk-estimator fitted sk-toggleable\"><input class=\"sk-toggleable__control sk-hidden--visually\" id=\"sk-estimator-id-14\" type=\"checkbox\" ><label for=\"sk-estimator-id-14\" class=\"sk-toggleable__label fitted sk-toggleable__label-arrow fitted\">&nbsp;TfidfVectorizer<a class=\"sk-estimator-doc-link fitted\" rel=\"noreferrer\" target=\"_blank\" href=\"https://scikit-learn.org/1.5/modules/generated/sklearn.feature_extraction.text.TfidfVectorizer.html\">?<span>Documentation for TfidfVectorizer</span></a></label><div class=\"sk-toggleable__content fitted\"><pre>TfidfVectorizer()</pre></div> </div></div><div class=\"sk-item\"><div class=\"sk-estimator fitted sk-toggleable\"><input class=\"sk-toggleable__control sk-hidden--visually\" id=\"sk-estimator-id-15\" type=\"checkbox\" ><label for=\"sk-estimator-id-15\" class=\"sk-toggleable__label fitted sk-toggleable__label-arrow fitted\">&nbsp;RandomForestClassifier<a class=\"sk-estimator-doc-link fitted\" rel=\"noreferrer\" target=\"_blank\" href=\"https://scikit-learn.org/1.5/modules/generated/sklearn.ensemble.RandomForestClassifier.html\">?<span>Documentation for RandomForestClassifier</span></a></label><div class=\"sk-toggleable__content fitted\"><pre>RandomForestClassifier(max_depth=40, n_estimators=50)</pre></div> </div></div></div></div></div></div>"
      ],
      "text/plain": [
       "Pipeline(steps=[('tfidf', TfidfVectorizer()),\n",
       "                ('classifier',\n",
       "                 RandomForestClassifier(max_depth=40, n_estimators=50))])"
      ]
     },
     "execution_count": 105,
     "metadata": {},
     "output_type": "execute_result"
    }
   ],
   "source": [
    "# Trian Our model\n",
    "classifier.fit(X_train,y_train)"
   ]
  },
  {
   "cell_type": "code",
   "execution_count": 106,
   "id": "80cbb033",
   "metadata": {
    "execution": {
     "iopub.execute_input": "2023-09-21T08:46:08.316826Z",
     "iopub.status.busy": "2023-09-21T08:46:08.316340Z",
     "iopub.status.idle": "2023-09-21T08:46:10.146034Z",
     "shell.execute_reply": "2023-09-21T08:46:10.144637Z"
    },
    "id": "80cbb033",
    "papermill": {
     "duration": 1.84904,
     "end_time": "2023-09-21T08:46:10.149161",
     "exception": false,
     "start_time": "2023-09-21T08:46:08.300121",
     "status": "completed"
    },
    "tags": []
   },
   "outputs": [],
   "source": [
    "# Prediction\n",
    "y_pred = classifier.predict(x_test)"
   ]
  },
  {
   "cell_type": "markdown",
   "id": "c22eb9ac",
   "metadata": {
    "id": "c22eb9ac",
    "papermill": {
     "duration": 0.012147,
     "end_time": "2023-09-21T08:46:10.173831",
     "exception": false,
     "start_time": "2023-09-21T08:46:10.161684",
     "status": "completed"
    },
    "tags": []
   },
   "source": [
    "### Check the Accuracy"
   ]
  },
  {
   "cell_type": "code",
   "execution_count": 107,
   "id": "bd98cc83",
   "metadata": {
    "execution": {
     "iopub.execute_input": "2023-09-21T08:46:10.202116Z",
     "iopub.status.busy": "2023-09-21T08:46:10.201581Z",
     "iopub.status.idle": "2023-09-21T08:46:10.207637Z",
     "shell.execute_reply": "2023-09-21T08:46:10.206356Z"
    },
    "id": "bd98cc83",
    "papermill": {
     "duration": 0.024109,
     "end_time": "2023-09-21T08:46:10.210552",
     "exception": false,
     "start_time": "2023-09-21T08:46:10.186443",
     "status": "completed"
    },
    "tags": []
   },
   "outputs": [],
   "source": [
    "# Importing classification_report,accuracy_score,confusion_matrix\n",
    "from sklearn.metrics import classification_report,accuracy_score,confusion_matrix"
   ]
  },
  {
   "cell_type": "code",
   "execution_count": 108,
   "id": "9c7f670d",
   "metadata": {},
   "outputs": [
    {
     "data": {
      "text/plain": [
       "'                precision    recall  f1-score   support\\n\\nPhishing Email       0.95      0.90      0.92      2174\\n    Safe Email       0.94      0.97      0.95      3417\\n\\n      accuracy                           0.94      5591\\n     macro avg       0.95      0.93      0.94      5591\\n  weighted avg       0.94      0.94      0.94      5591\\n'"
      ]
     },
     "execution_count": 108,
     "metadata": {},
     "output_type": "execute_result"
    }
   ],
   "source": [
    "classification_report(y_test,y_pred)\n"
   ]
  },
  {
   "cell_type": "code",
   "execution_count": 109,
   "id": "60fdc47e",
   "metadata": {
    "colab": {
     "base_uri": "https://localhost:8080/"
    },
    "execution": {
     "iopub.execute_input": "2023-09-21T08:46:10.240467Z",
     "iopub.status.busy": "2023-09-21T08:46:10.239944Z",
     "iopub.status.idle": "2023-09-21T08:46:10.265342Z",
     "shell.execute_reply": "2023-09-21T08:46:10.264063Z"
    },
    "id": "60fdc47e",
    "outputId": "4e8d4706-8408-41e7-abc2-a6c65aea50db",
    "papermill": {
     "duration": 0.04379,
     "end_time": "2023-09-21T08:46:10.268073",
     "exception": false,
     "start_time": "2023-09-21T08:46:10.224283",
     "status": "completed"
    },
    "tags": []
   },
   "outputs": [
    {
     "data": {
      "text/plain": [
       "0.9427651582901091"
      ]
     },
     "execution_count": 109,
     "metadata": {},
     "output_type": "execute_result"
    }
   ],
   "source": [
    "#accuracy_score of RandomForest\n",
    "accuracy_score(y_test,y_pred)\n"
   ]
  },
  {
   "cell_type": "code",
   "execution_count": 110,
   "id": "9adc6bf9",
   "metadata": {
    "colab": {
     "base_uri": "https://localhost:8080/"
    },
    "execution": {
     "iopub.execute_input": "2023-09-21T08:46:10.371127Z",
     "iopub.status.busy": "2023-09-21T08:46:10.370600Z",
     "iopub.status.idle": "2023-09-21T08:46:10.677850Z",
     "shell.execute_reply": "2023-09-21T08:46:10.676559Z"
    },
    "id": "9adc6bf9",
    "outputId": "c88cab72-1c77-4f92-c2d9-311f62b49537",
    "papermill": {
     "duration": 0.326174,
     "end_time": "2023-09-21T08:46:10.680763",
     "exception": false,
     "start_time": "2023-09-21T08:46:10.354589",
     "status": "completed"
    },
    "tags": []
   },
   "outputs": [
    {
     "name": "stdout",
     "output_type": "stream",
     "text": [
      "Accuracy of Gradient Boosting model is: 0.9322124843498479\n"
     ]
    }
   ],
   "source": [
    "from sklearn.ensemble import GradientBoostingClassifier\n",
    "from sklearn.feature_extraction.text import TfidfVectorizer\n",
    "from sklearn.pipeline import Pipeline\n",
    "from sklearn import metrics\n",
    "\n",
    "# Initialize the Gradient Boosting Classifier within a pipeline\n",
    "GBClassifier = Pipeline([(\"tfidf\",TfidfVectorizer() ),(\"classifier\",GradientBoostingClassifier(n_estimators=100, random_state=0))])\n",
    "\n",
    "# Fit the model\n",
    "GBClassifier.fit(X_train, y_train)\n",
    "\n",
    "# Make predictions\n",
    "GBpred = GBClassifier.predict(x_test)\n",
    "\n",
    "# Calculate and print accuracy\n",
    "print(\"Accuracy of Gradient Boosting model is:\", metrics.accuracy_score(GBpred, y_test))"
   ]
  },
  {
   "cell_type": "markdown",
   "id": "675a9723",
   "metadata": {
    "id": "675a9723",
    "papermill": {
     "duration": 0.013061,
     "end_time": "2023-09-21T08:46:10.707148",
     "exception": false,
     "start_time": "2023-09-21T08:46:10.694087",
     "status": "completed"
    },
    "tags": []
   },
   "source": [
    "### Build SVM Model"
   ]
  },
  {
   "cell_type": "markdown",
   "id": "d841ae1f",
   "metadata": {},
   "source": []
  }
 ],
 "metadata": {
  "colab": {
   "provenance": []
  },
  "kernelspec": {
   "display_name": ".venv",
   "language": "python",
   "name": "python3"
  },
  "language_info": {
   "codemirror_mode": {
    "name": "ipython",
    "version": 3
   },
   "file_extension": ".py",
   "mimetype": "text/x-python",
   "name": "python",
   "nbconvert_exporter": "python",
   "pygments_lexer": "ipython3",
   "version": "3.11.9"
  },
  "papermill": {
   "default_parameters": {},
   "duration": 240.189298,
   "end_time": "2023-09-21T08:49:45.881056",
   "environment_variables": {},
   "exception": null,
   "input_path": "__notebook__.ipynb",
   "output_path": "__notebook__.ipynb",
   "parameters": {},
   "start_time": "2023-09-21T08:45:45.691758",
   "version": "2.4.0"
  }
 },
 "nbformat": 4,
 "nbformat_minor": 5
}
